{
 "cells": [
  {
   "cell_type": "code",
   "execution_count": 219,
   "metadata": {},
   "outputs": [],
   "source": [
    "import pandas as pd\n",
    "import re  "
   ]
  },
  {
   "cell_type": "code",
   "execution_count": 220,
   "metadata": {},
   "outputs": [],
   "source": [
    "# Daten laden\n",
    "bookings = pd.read_csv( 'data/raw/crossbooking_challenge.csv' )"
   ]
  },
  {
   "cell_type": "code",
   "execution_count": 221,
   "metadata": {},
   "outputs": [
    {
     "data": {
      "text/html": [
       "<div>\n",
       "<style scoped>\n",
       "    .dataframe tbody tr th:only-of-type {\n",
       "        vertical-align: middle;\n",
       "    }\n",
       "\n",
       "    .dataframe tbody tr th {\n",
       "        vertical-align: top;\n",
       "    }\n",
       "\n",
       "    .dataframe thead th {\n",
       "        text-align: right;\n",
       "    }\n",
       "</style>\n",
       "<table border=\"1\" class=\"dataframe\">\n",
       "  <thead>\n",
       "    <tr style=\"text-align: right;\">\n",
       "      <th></th>\n",
       "      <th>turnover_id</th>\n",
       "      <th>payee_payer_name</th>\n",
       "      <th>holder_name</th>\n",
       "    </tr>\n",
       "  </thead>\n",
       "  <tbody>\n",
       "    <tr>\n",
       "      <th>0</th>\n",
       "      <td>b892f151-e54d-4cdc-ad3b-bb49c6f10197</td>\n",
       "      <td>Stefan und Ulrike Steffens</td>\n",
       "      <td>Stefan und Manuela Steffens</td>\n",
       "    </tr>\n",
       "    <tr>\n",
       "      <th>1</th>\n",
       "      <td>85921cb1-9d3c-4ee0-aefa-5b758eef8701</td>\n",
       "      <td>Drk Krejsverband Claire Siege V</td>\n",
       "      <td>Maren Hecker</td>\n",
       "    </tr>\n",
       "    <tr>\n",
       "      <th>2</th>\n",
       "      <td>63cb68a0-8a04-11ec-1d14-82bb5829b41b</td>\n",
       "      <td>Emslaendische Volksbank Eg</td>\n",
       "      <td>Hinrich Schleich</td>\n",
       "    </tr>\n",
       "    <tr>\n",
       "      <th>3</th>\n",
       "      <td>fe383450-bc4e-11ec-c954-6c39d3c8dc12</td>\n",
       "      <td>Mig Gmbh Und Co Fonds6 Kg</td>\n",
       "      <td>Käthe Finke</td>\n",
       "    </tr>\n",
       "    <tr>\n",
       "      <th>4</th>\n",
       "      <td>9a372a30-e9e2-11ec-e558-8689140089a8</td>\n",
       "      <td>Bundesagentur Rosel Arbeit Service Lehmann</td>\n",
       "      <td>Käthe Finke</td>\n",
       "    </tr>\n",
       "  </tbody>\n",
       "</table>\n",
       "</div>"
      ],
      "text/plain": [
       "                            turnover_id  \\\n",
       "0  b892f151-e54d-4cdc-ad3b-bb49c6f10197   \n",
       "1  85921cb1-9d3c-4ee0-aefa-5b758eef8701   \n",
       "2  63cb68a0-8a04-11ec-1d14-82bb5829b41b   \n",
       "3  fe383450-bc4e-11ec-c954-6c39d3c8dc12   \n",
       "4  9a372a30-e9e2-11ec-e558-8689140089a8   \n",
       "\n",
       "                             payee_payer_name                  holder_name  \n",
       "0                  Stefan und Ulrike Steffens  Stefan und Manuela Steffens  \n",
       "1             Drk Krejsverband Claire Siege V                 Maren Hecker  \n",
       "2                  Emslaendische Volksbank Eg             Hinrich Schleich  \n",
       "3                   Mig Gmbh Und Co Fonds6 Kg                  Käthe Finke  \n",
       "4  Bundesagentur Rosel Arbeit Service Lehmann                  Käthe Finke  "
      ]
     },
     "execution_count": 221,
     "metadata": {},
     "output_type": "execute_result"
    }
   ],
   "source": [
    "bookings.head()"
   ]
  },
  {
   "cell_type": "code",
   "execution_count": 222,
   "metadata": {},
   "outputs": [],
   "source": [
    "def comma_splitting( x ):\n",
    "    \"\"\"\n",
    "    Namen richtig drehen.\n",
    "    \"\"\"\n",
    "    if type( x ) != str:\n",
    "        return None\n",
    "    splitted = x.split( ',' )\n",
    "    if len(splitted) == 2:\n",
    "        return f'{splitted[1].strip()} {splitted[0].strip()}'\n",
    "    else:\n",
    "        return x"
   ]
  },
  {
   "cell_type": "code",
   "execution_count": 223,
   "metadata": {},
   "outputs": [],
   "source": [
    "def replace_special_chars( x ):\n",
    "    \"\"\"\n",
    "    Macht natürlich nicht immer Sinn. In den Beispielen vllt schon.\n",
    "    \"\"\"\n",
    "    if type( x ) != str:\n",
    "        return None\n",
    "    res = x \n",
    "    res = res.replace('ü','ue')\n",
    "    res = res.replace('ö','oe')\n",
    "    res = res.replace('ä','ae')\n",
    "    res = res.replace('.','')\n",
    "    return res"
   ]
  },
  {
   "cell_type": "code",
   "execution_count": 224,
   "metadata": {},
   "outputs": [],
   "source": [
    "def replace_title( x ):\n",
    "    \"\"\"\n",
    "    Kann natürlich noch viel mehr geben. Kann auch im String klassifizieren mit NLP Modellen. \n",
    "    \"\"\"\n",
    "    if type( x ) != str:\n",
    "        return None\n",
    "    res = x \n",
    "    res = re.sub( r'(^|\\W)herr(^|\\W)', '', res )\n",
    "    res = re.sub( r'(^|\\W)dr(^|\\W)', '', res )\n",
    "    res = re.sub( r'(^|\\W)prof(^|\\W)', '', res )\n",
    "    res = res.replace('dr ','')\n",
    "    return res"
   ]
  },
  {
   "cell_type": "code",
   "execution_count": 225,
   "metadata": {},
   "outputs": [],
   "source": [
    "def simplify_names( x ): \n",
    "    \"\"\"\n",
    "    Vermutlich Fehler bei mehr Daten, aber macht hier bei ein paar Beispielen Sinn.\n",
    "    \"\"\"\n",
    "    if type( x ) != str:\n",
    "        return None\n",
    "    splitted = x.split( ' ' )\n",
    "    if len(splitted) >= 2 and not ('und' in splitted or 'oder' in splitted):\n",
    "        return f'{splitted[0].strip()}{splitted[-1].strip()}'\n",
    "    else:\n",
    "        return x"
   ]
  },
  {
   "cell_type": "code",
   "execution_count": 226,
   "metadata": {},
   "outputs": [],
   "source": [
    "def joint_splitting( x ):\n",
    "    \"\"\"\n",
    "    Gemeinschaftskonten splitten. Sollte wohl noch um andere Varianten erweitert werden. \n",
    "    \"\"\"\n",
    "    if type( x ) != str:\n",
    "        return pd.Series([None, None])\n",
    "    splitted = x.split( ' und ' )\n",
    "    if len(splitted) == 2:\n",
    "        splitted_last = splitted[1].strip().split(' ')\n",
    "        surname = splitted_last[-1].strip()\n",
    "        forename_first = splitted[0].strip()\n",
    "        forename_second = ' '.join( splitted_last[:-1] )\n",
    "        return pd.Series([f'{forename_first} {surname}', f'{forename_second} {surname}'])\n",
    "    else:\n",
    "        return pd.Series([None, None])"
   ]
  },
  {
   "cell_type": "code",
   "execution_count": 227,
   "metadata": {},
   "outputs": [],
   "source": [
    "# Alle Funktionen einmal zum Preprocessen anweden\n",
    "def preprocess(df, column):\n",
    "    df[column] = df[column].str.lower() # lower case for matching\n",
    "    df[column] = df[column].apply( replace_special_chars ) # replace special chars\n",
    "    df[column] = df[column].apply( replace_title ) # replace special chars\n",
    "    df[column] = df[column].apply( comma_splitting ) # split , separated names\n",
    "    df[f'{column}_short'] = df[column].apply( simplify_names ) # shorten names, e.g., hans peter müller => hans müller\n",
    "    splitted = [f'{column}_a', f'{column}_b']\n",
    "    df[splitted] = df[column].apply( joint_splitting ) # split joint accounts\n",
    "    return df"
   ]
  },
  {
   "cell_type": "code",
   "execution_count": 228,
   "metadata": {},
   "outputs": [],
   "source": [
    "# für beide Spalten\n",
    "test = preprocess( bookings, 'payee_payer_name' )\n",
    "test = preprocess( test, 'holder_name' )"
   ]
  },
  {
   "cell_type": "code",
   "execution_count": 229,
   "metadata": {},
   "outputs": [],
   "source": [
    "# Direkt A => A\n",
    "test['rule_1_direct'] = test['payee_payer_name'] == test['holder_name']\n",
    "test['rule_1_direct_unsafe'] = test['payee_payer_name_short'] == test['holder_name_short']"
   ]
  },
  {
   "cell_type": "code",
   "execution_count": 230,
   "metadata": {},
   "outputs": [],
   "source": [
    "# Indirekt A+B => A | B\n",
    "first_match = test['payee_payer_name'] == test['holder_name_a']\n",
    "second_match = test['payee_payer_name'] == test['holder_name_b']\n",
    "test['rule_2_joint_to_single'] =  first_match | second_match"
   ]
  },
  {
   "cell_type": "code",
   "execution_count": 231,
   "metadata": {},
   "outputs": [],
   "source": [
    "# Indirekt A | B => A+B\n",
    "first_match = test['payee_payer_name_a'] == test['holder_name']\n",
    "second_match = test['payee_payer_name_b'] == test['holder_name']\n",
    "test['rule_3_single_to_joint'] =  first_match | second_match"
   ]
  },
  {
   "cell_type": "code",
   "execution_count": 232,
   "metadata": {},
   "outputs": [],
   "source": [
    "# Eine Regel sollte passen\n",
    "rules = [ 'rule_1_direct', 'rule_2_joint_to_single', 'rule_3_single_to_joint', 'rule_1_direct_unsafe' ]\n",
    "test['crossbooking'] = False\n",
    "for rule in rules: \n",
    "    test['crossbooking'] = test['crossbooking'] | test[rule]"
   ]
  },
  {
   "cell_type": "code",
   "execution_count": 233,
   "metadata": {},
   "outputs": [
    {
     "data": {
      "text/plain": [
       "(60, 64, 0, 2, 66)"
      ]
     },
     "execution_count": 233,
     "metadata": {},
     "output_type": "execute_result"
    }
   ],
   "source": [
    "# Welche Regel trifft?\n",
    "test['rule_1_direct'].sum(), test['rule_1_direct_unsafe'].sum(), test['rule_2_joint_to_single'].sum(), test['rule_3_single_to_joint'].sum(), test['crossbooking'].sum()"
   ]
  },
  {
   "cell_type": "code",
   "execution_count": 234,
   "metadata": {},
   "outputs": [],
   "source": [
    "test[['turnover_id','payee_payer_name','holder_name','crossbooking']].to_csv( 'data/output/test.csv', sep=';' )"
   ]
  },
  {
   "cell_type": "markdown",
   "metadata": {},
   "source": [
    "## Kommentare\n",
    "* Hat Stefan zwei Frauen? Soll sowas trotzdem zählen?\n",
    "* Generell würd ich hier mit Blick auf mehr Daten\n",
    "    * die Regeln verifizieren/testen und eher sicher festlegen\n",
    "    * zusätzlich noch fuzzy matchen und Randfälle beobachten zur Verfeinerung\n",
    "* Mapping von A+B => A auf A => B könnte man sicher noch machen, kommt aber hier vermutlich nicht vor!?"
   ]
  },
  {
   "cell_type": "markdown",
   "metadata": {},
   "source": []
  }
 ],
 "metadata": {
  "kernelspec": {
   "display_name": "Python 3.9.13 ('base')",
   "language": "python",
   "name": "python3"
  },
  "language_info": {
   "codemirror_mode": {
    "name": "ipython",
    "version": 3
   },
   "file_extension": ".py",
   "mimetype": "text/x-python",
   "name": "python",
   "nbconvert_exporter": "python",
   "pygments_lexer": "ipython3",
   "version": "3.9.13"
  },
  "orig_nbformat": 4,
  "vscode": {
   "interpreter": {
    "hash": "b4e8ac1233ec57500e8c28c02ee0a42bbaca8ea7b77248a7291f66b734aa5c5f"
   }
  }
 },
 "nbformat": 4,
 "nbformat_minor": 2
}
